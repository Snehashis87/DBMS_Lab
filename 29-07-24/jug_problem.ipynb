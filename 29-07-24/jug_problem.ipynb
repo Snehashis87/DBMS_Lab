{
 "cells": [
  {
   "cell_type": "markdown",
   "metadata": {},
   "source": [
    "A Water Jug Problem: You are given two jugs, a 4-gallon one and a 3-gallon one, a pump which has \n",
    "unlimited water which you can use to fill the jug, and the ground on which water may be poured. Neither \n",
    "jug has any measuring markings on it. How can you get exactly 2 gallons of water in the 4-gallon jug?\n",
    "Implement using a python program"
   ]
  },
  {
   "cell_type": "code",
   "execution_count": 3,
   "metadata": {},
   "outputs": [
    {
     "name": "stdout",
     "output_type": "stream",
     "text": [
      "Fill 3-gallon jug: jug4 = 0, jug3 = 3\n",
      "Pour 3-gallon jug into 4-gallon jug: jug4 = 3, jug3 = 0\n",
      "Fill 3-gallon jug again: jug4 = 3, jug3 = 3\n",
      "Pour 3-gallon jug into 4-gallon jug until full: jug4 = 4, jug3 = 2\n",
      "Empty 4-gallon jug: jug4 = 0, jug3 = 2\n",
      "Pour remaining water from 3-gallon jug into 4-gallon jug: jug4 = 2, jug3 = 0\n",
      "Final amount of water in 4-gallon jug: 2 gallons\n"
     ]
    }
   ],
   "source": [
    "def water_jug_problem():\n",
    "    jug4 = 0\n",
    "    jug3 = 0\n",
    "    \n",
    "    jug3 = 3\n",
    "    print(f\"Fill 3-gallon jug: jug4 = {jug4}, jug3 = {jug3}\")\n",
    "    \n",
    "    jug4 += jug3\n",
    "    jug3 = 0\n",
    "    print(f\"Pour 3-gallon jug into 4-gallon jug: jug4 = {jug4}, jug3 = {jug3}\")\n",
    "    \n",
    "    jug3 = 3\n",
    "    print(f\"Fill 3-gallon jug again: jug4 = {jug4}, jug3 = {jug3}\")\n",
    "    \n",
    "    space_in_jug4 = 4 - jug4\n",
    "    if jug3 <= space_in_jug4:\n",
    "        jug4 += jug3\n",
    "        jug3 = 0\n",
    "    else:\n",
    "        jug3 -= space_in_jug4\n",
    "        jug4 = 4\n",
    "    print(f\"Pour 3-gallon jug into 4-gallon jug until full: jug4 = {jug4}, jug3 = {jug3}\")\n",
    "    \n",
    "    jug4 = 0\n",
    "    print(f\"Empty 4-gallon jug: jug4 = {jug4}, jug3 = {jug3}\")\n",
    "    \n",
    "    jug4 += jug3\n",
    "    jug3 = 0\n",
    "    print(f\"Pour remaining water from 3-gallon jug into 4-gallon jug: jug4 = {jug4}, jug3 = {jug3}\")\n",
    "    \n",
    "    return jug4\n",
    "result = water_jug_problem()\n",
    "print(f\"Final amount of water in 4-gallon jug: {result} gallons\")\n"
   ]
  }
 ],
 "metadata": {
  "kernelspec": {
   "display_name": "Python 3",
   "language": "python",
   "name": "python3"
  },
  "language_info": {
   "codemirror_mode": {
    "name": "ipython",
    "version": 3
   },
   "file_extension": ".py",
   "mimetype": "text/x-python",
   "name": "python",
   "nbconvert_exporter": "python",
   "pygments_lexer": "ipython3",
   "version": "3.12.4"
  }
 },
 "nbformat": 4,
 "nbformat_minor": 2
}
